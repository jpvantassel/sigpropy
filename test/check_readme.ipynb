{
 "cells": [
  {
   "cell_type": "markdown",
   "metadata": {},
   "source": [
    "# Check README\n",
    "\n",
    "> Joseph P. Vantassel, The University of Texas at Austin\n",
    "\n",
    "A notebook to check code syntax in README."
   ]
  },
  {
   "cell_type": "code",
   "execution_count": null,
   "metadata": {},
   "outputs": [],
   "source": [
    "import sigpropy\n",
    "import matplotlib.pyplot as plt\n",
    "import numpy as np\n",
    "\n",
    "dt = 0.002\n",
    "time = np.arange(0, 1, dt)\n",
    "s1 = 1*np.sin(2*np.pi*10*time)\n",
    "s2 = 2*np.sin(2*np.pi*20*time)\n",
    "s3 = 5*np.sin(2*np.pi*30*time)\n",
    "amplitude = s1 + s2 + s3\n",
    "\n",
    "tseries = sigpropy.TimeSeries(amplitude, dt)\n",
    "fseries = sigpropy.FourierTransform.from_timeseries(tseries)\n",
    "\n",
    "plt.plot(tseries.time, tseries.amplitude)\n",
    "plt.xlabel(\"Time (s)\")\n",
    "plt.ylabel(\"Amplitude\")\n",
    "plt.show()"
   ]
  },
  {
   "cell_type": "code",
   "execution_count": null,
   "metadata": {},
   "outputs": [],
   "source": [
    "import sigpropy\n",
    "import matplotlib.pyplot as plt\n",
    "import numpy as np\n",
    "\n",
    "dt=0.002\n",
    "time = np.arange(0, 1, dt)\n",
    "s1 = 1*np.sin(2*np.pi*10*time)\n",
    "s2 = 2*np.sin(2*np.pi*20*time)\n",
    "s3 = 5*np.sin(2*np.pi*30*time)\n",
    "amplitude = s1 + s2 + s3\n",
    "\n",
    "tseries = sigpropy.TimeSeries(amplitude, dt)\n",
    "fseries = sigpropy.FourierTransform.from_timeseries(tseries)\n",
    "\n",
    "plt.plot(fseries.frequency, fseries.mag)\n",
    "plt.xscale(\"log\")\n",
    "plt.xlabel(\"Frequency (Hz)\")\n",
    "plt.ylabel(\"|FFT Amplitude|\")\n",
    "plt.show()"
   ]
  },
  {
   "cell_type": "code",
   "execution_count": null,
   "metadata": {},
   "outputs": [],
   "source": []
  }
 ],
 "metadata": {
  "kernelspec": {
   "display_name": "Python 3",
   "language": "python",
   "name": "python3"
  },
  "language_info": {
   "codemirror_mode": {
    "name": "ipython",
    "version": 3
   },
   "file_extension": ".py",
   "mimetype": "text/x-python",
   "name": "python",
   "nbconvert_exporter": "python",
   "pygments_lexer": "ipython3",
   "version": "3.7.5"
  }
 },
 "nbformat": 4,
 "nbformat_minor": 4
}
