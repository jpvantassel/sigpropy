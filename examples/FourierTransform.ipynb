{
 "cells": [
  {
   "cell_type": "markdown",
   "metadata": {},
   "source": [
    "# FourierTransform\n",
    "\n",
    "> Joseph P. Vantassel, The University of Texas at Austin\n",
    "\n",
    "A few simple examples using the _FourierTransform_ class in _sigpropy_."
   ]
  },
  {
   "cell_type": "code",
   "execution_count": 1,
   "metadata": {},
   "outputs": [],
   "source": [
    "import sigpropy\n",
    "import matplotlib.pyplot as plt\n",
    "import numpy as np"
   ]
  },
  {
   "cell_type": "markdown",
   "metadata": {},
   "source": [
    "## FourierTransform()\n",
    "\n",
    "Create _FourierTransform_ instance."
   ]
  },
  {
   "cell_type": "markdown",
   "metadata": {},
   "source": [
    "### Single Frequency"
   ]
  },
  {
   "cell_type": "code",
   "execution_count": 2,
   "metadata": {},
   "outputs": [
    {
     "data": {
      "image/png": "[encoded data removed]",
      "text/plain": [
       "<Figure size 432x288 with 1 Axes>"
      ]
     },
     "metadata": {
      "needs_background": "light"
     },
     "output_type": "display_data"
    }
   ],
   "source": [
    "dt = 0.002                                                   # Time step of 0.002 seconds\n",
    "time = np.arange(0, 1, dt)                                   # Create time vector between 0 and 1 second\n",
    "amplitude = np.sin(2*np.pi*10*time)                          # Create amplitude vector for 10 Hz sinusoid\n",
    "tseries = sigpropy.TimeSeries(amplitude, dt)\n",
    "\n",
    "fseries = sigpropy.FourierTransform.from_timeseries(tseries) # Create FourierTransform form TimeSeries\n",
    "\n",
    "plt.plot(fseries.frequency, fseries.mag)                     # Plot\n",
    "plt.xscale(\"log\")\n",
    "plt.xlabel(\"Frequency (Hz)\")\n",
    "plt.ylabel(\"|FFT Amplitude|\")\n",
    "plt.show()"
   ]
  },
  {
   "cell_type": "markdown",
   "metadata": {},
   "source": [
    "### Multi-Frequency"
   ]
  },
  {
   "cell_type": "code",
   "execution_count": 3,
   "metadata": {},
   "outputs": [
    {
     "data": {
      "image/png": "[encoded data removed]",
      "text/plain": [
       "<Figure size 432x288 with 1 Axes>"
      ]
     },
     "metadata": {
      "needs_background": "light"
     },
     "output_type": "display_data"
    }
   ],
   "source": [
    "dt = 0.002                                                       # Time step of 0.002 seconds\n",
    "time = np.arange(0, 1, dt)                                       # Create time vector between 0 and 1 second   \n",
    "s1 = 1*np.sin(2*np.pi*10*time)                                   # Create amplitude vector using three different sinusoids\n",
    "s2 = 2*np.sin(2*np.pi*20*time)\n",
    "s3 = 5*np.sin(2*np.pi*30*time)\n",
    "\n",
    "amplitude = s1 + s2 + s3\n",
    "tseries = sigpropy.TimeSeries(amplitude, dt)\n",
    "\n",
    "fseries = sigpropy.FourierTransform.from_timeseries(tseries)     # Create FourierTransform form TimeSeries\n",
    "\n",
    "plt.plot(fseries.frequency, fseries.mag)                         # Plot \n",
    "plt.xscale(\"log\")\n",
    "plt.xlabel(\"Frequency (Hz)\")\n",
    "plt.ylabel(\"|FFT Amplitude|\")\n",
    "plt.show()"
   ]
  },
  {
   "cell_type": "code",
   "execution_count": null,
   "metadata": {},
   "outputs": [],
   "source": []
  }
 ],
 "metadata": {
  "kernelspec": {
   "display_name": "Python 3",
   "language": "python",
   "name": "python3"
  },
  "language_info": {
   "codemirror_mode": {
    "name": "ipython",
    "version": 3
   },
   "file_extension": ".py",
   "mimetype": "text/x-python",
   "name": "python",
   "nbconvert_exporter": "python",
   "pygments_lexer": "ipython3",
   "version": "3.7.5"
  }
 },
 "nbformat": 4,
 "nbformat_minor": 4
}
